{
 "cells": [
  {
   "cell_type": "code",
   "execution_count": null,
   "metadata": {},
   "outputs": [],
   "source": [
    "import pandas as pd\n",
    "import matplotlib.pyplot as plt\n",
    "import seaborn as sns\n",
    "\n",
    "file_path = \"preprocessed_stat.csv\"  # 여기에 실제 파일 경로를 입력해주세요.\n",
    "\n",
    "def read_csv_and_show_shape(file_path):\n",
    "    try:\n",
    "        # CSV 파일 읽기\n",
    "        df = pd.read_csv(file_path)\n",
    "        \n",
    "        # shape 출력\n",
    "        print(\"불러온 CSV 파일의 shape:\", df.shape)\n",
    "        \n",
    "        return df\n",
    "        \n",
    "    except FileNotFoundError:\n",
    "        print(\"파일을 찾을 수 없습니다.\")\n",
    "    except Exception as e:\n",
    "        print(\"오류 발생:\", e)\n",
    "        \n",
    "df2 = read_csv_and_show_shape(file_path)\n",
    "# object 타입을 제외한 컬럼들만 선택\n",
    "df_numeric = df2.select_dtypes(exclude=['object'])\n",
    "\n",
    "\n",
    "# 히트맵 그리기\n",
    "plt.figure(figsize=(12, 10))\n",
    "sns.heatmap(df_numeric.corr(), annot=True, cmap='coolwarm', fmt=\".2f\", linewidths=.8)\n",
    "plt.title(\"Correlation Heatmap after PCA\")\n",
    "plt.show()"
   ]
  },
  {
   "cell_type": "code",
   "execution_count": null,
   "metadata": {},
   "outputs": [],
   "source": [
    "from sklearn.preprocessing import StandardScaler\n",
    "from sklearn.decomposition import PCA\n",
    "\n",
    "df3 = df2.drop(['종합RAA', 'WAAwoPOS'])\n",
    "# 데이터 표준화\n",
    "scaler = StandardScaler()\n",
    "df_scaled = scaler.fit_transform(df2[['종합RAA', 'WAAwoPOS']])\n",
    "\n",
    "# PCA 수행 (주성분 개수를 1로 설정하여 차원을 하나로 축소)\n",
    "pca = PCA(n_components=1)\n",
    "pca_result = pca.fit_transform(df_scaled)\n",
    "\n",
    "# PCA 결과를 기존 데이터 프레임 df에 새로운 컬럼으로 추가\n",
    "df3['PCA(종합 RAA, WAA)'] = pca_result"
   ]
  }
 ],
 "metadata": {
  "language_info": {
   "name": "python"
  }
 },
 "nbformat": 4,
 "nbformat_minor": 2
}
